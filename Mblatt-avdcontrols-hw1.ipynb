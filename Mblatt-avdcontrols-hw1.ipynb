{
 "cells": [
  {
   "cell_type": "code",
   "execution_count": 1,
   "metadata": {},
   "outputs": [],
   "source": [
    "#1\n",
    "list_a = [3,4,6,10,39,87,12,54]\n"
   ]
  },
  {
   "cell_type": "code",
   "execution_count": 15,
   "metadata": {},
   "outputs": [
    {
     "name": "stdout",
     "output_type": "stream",
     "text": [
      "Max Value: 87\n",
      "Min Value: 3\n",
      "Summation Value: 215\n",
      "[3, 4, 6, 10, 12, 39, 54, 87]\n",
      "3\n",
      "4\n",
      "6\n",
      "10\n",
      "39\n",
      "87\n",
      "12\n",
      "54\n"
     ]
    }
   ],
   "source": [
    "#1a\n",
    "print( \"Max Value:\", max(list_a))\n",
    "print( \"Min Value:\", min(list_a))\n",
    "print( \"Summation Value:\", sum(list_a))\n",
    "#1b \n",
    "list_a_sort = sorted(list_a)\n",
    "print(list_a_sort)\n",
    "#1c\n",
    "for val in list_a :\n",
    "    print(val)"
   ]
  },
  {
   "cell_type": "code",
   "execution_count": 20,
   "metadata": {},
   "outputs": [
    {
     "name": "stdout",
     "output_type": "stream",
     "text": [
      "100 is not prime.\n"
     ]
    }
   ],
   "source": [
    "#2a\n",
    "\n",
    "def isprime(number):\n",
    "    i = 1\n",
    "    while i <= number:\n",
    "        #if i == 1:\n",
    "            #i = i + 1\n",
    "            #print(\"1 is not prime.\")\n",
    "        if number % i == 0:\n",
    "            print(number, \"is not prime.\")\n",
    "            break\n",
    "        elif i == number - 1:\n",
    "            print(number, \"is prime.\")\n",
    "            break\n",
    "        else:\n",
    "            i = i + 1\n",
    "    \n",
    "isprime(100)"
   ]
  },
  {
   "cell_type": "code",
   "execution_count": 50,
   "metadata": {},
   "outputs": [
    {
     "name": "stdout",
     "output_type": "stream",
     "text": [
      "2 is not prime.\n",
      "3 is prime.\n",
      "4 is not prime.\n",
      "5 is prime.\n",
      "6 is not prime.\n",
      "7 is prime.\n",
      "8 is not prime.\n",
      "9 is not prime.\n",
      "10 is not prime.\n",
      "11 is prime.\n",
      "12 is not prime.\n",
      "13 is prime.\n",
      "14 is not prime.\n",
      "15 is not prime.\n",
      "16 is not prime.\n",
      "17 is prime.\n",
      "18 is not prime.\n",
      "19 is prime.\n",
      "20 is not prime.\n",
      "21 is not prime.\n",
      "22 is not prime.\n",
      "23 is prime.\n",
      "24 is not prime.\n",
      "25 is not prime.\n",
      "26 is not prime.\n",
      "27 is not prime.\n",
      "28 is not prime.\n",
      "29 is prime.\n",
      "30 is not prime.\n",
      "31 is prime.\n",
      "32 is not prime.\n",
      "33 is not prime.\n",
      "34 is not prime.\n",
      "35 is not prime.\n",
      "36 is not prime.\n",
      "37 is prime.\n",
      "38 is not prime.\n",
      "39 is not prime.\n",
      "40 is not prime.\n",
      "41 is prime.\n",
      "42 is not prime.\n",
      "43 is prime.\n",
      "44 is not prime.\n",
      "45 is not prime.\n",
      "46 is not prime.\n",
      "47 is prime.\n",
      "48 is not prime.\n",
      "49 is not prime.\n",
      "50 is not prime.\n",
      "51 is not prime.\n",
      "52 is not prime.\n",
      "53 is prime.\n",
      "54 is not prime.\n",
      "55 is not prime.\n",
      "56 is not prime.\n",
      "57 is not prime.\n",
      "58 is not prime.\n",
      "59 is prime.\n",
      "60 is not prime.\n",
      "61 is prime.\n",
      "62 is not prime.\n",
      "63 is not prime.\n",
      "64 is not prime.\n",
      "65 is not prime.\n",
      "66 is not prime.\n",
      "67 is prime.\n",
      "68 is not prime.\n",
      "69 is not prime.\n",
      "70 is not prime.\n",
      "71 is prime.\n",
      "72 is not prime.\n",
      "73 is prime.\n",
      "74 is not prime.\n",
      "75 is not prime.\n",
      "76 is not prime.\n",
      "77 is not prime.\n",
      "78 is not prime.\n",
      "79 is prime.\n",
      "80 is not prime.\n",
      "81 is not prime.\n",
      "82 is not prime.\n",
      "83 is prime.\n",
      "84 is not prime.\n",
      "85 is not prime.\n",
      "86 is not prime.\n",
      "87 is not prime.\n",
      "88 is not prime.\n",
      "89 is prime.\n",
      "90 is not prime.\n",
      "91 is not prime.\n",
      "92 is not prime.\n",
      "93 is not prime.\n",
      "94 is not prime.\n",
      "95 is not prime.\n",
      "96 is not prime.\n",
      "97 is prime.\n",
      "98 is not prime.\n",
      "99 is not prime.\n",
      "100 is not prime.\n"
     ]
    }
   ],
   "source": [
    "#2b\n",
    "n = 1\n",
    "while n <= 100:\n",
    "    isprime(n)\n",
    "    n = n + 1"
   ]
  },
  {
   "cell_type": "code",
   "execution_count": 22,
   "metadata": {},
   "outputs": [
    {
     "name": "stdout",
     "output_type": "stream",
     "text": [
      "2 is not prime.\n",
      "3 is not prime.\n",
      "4 is not prime.\n",
      "5 is not prime.\n",
      "6 is not prime.\n",
      "7 is not prime.\n",
      "8 is not prime.\n",
      "9 is not prime.\n",
      "10 is not prime.\n",
      "11 is not prime.\n",
      "12 is not prime.\n",
      "13 is not prime.\n",
      "14 is not prime.\n",
      "15 is not prime.\n",
      "16 is not prime.\n",
      "17 is not prime.\n",
      "18 is not prime.\n",
      "19 is not prime.\n",
      "20 is not prime.\n",
      "21 is not prime.\n",
      "22 is not prime.\n",
      "23 is not prime.\n",
      "24 is not prime.\n",
      "25 is not prime.\n",
      "26 is not prime.\n",
      "27 is not prime.\n",
      "28 is not prime.\n",
      "29 is not prime.\n",
      "30 is not prime.\n"
     ]
    }
   ],
   "source": [
    "#2c\n",
    "def isprimecounter(number):\n",
    "    x = 1\n",
    "    while x <= number:\n",
    "        def isprime(n):\n",
    "            i = 2\n",
    "            m = 1\n",
    "            while i <= n:\n",
    "                #if i == 1:\n",
    "                    #i = i + 1\n",
    "                    #print(\"1 is prime.\")\n",
    "                if n % m == 0:\n",
    "                    print(n, \"is not prime.\")\n",
    "                    break\n",
    "                elif m == n - 1:\n",
    "                    print(n, \"is prime.\")\n",
    "                    break\n",
    "                else:\n",
    "                    i = i + 1\n",
    "        isprime(x)\n",
    "        x = x + 1\n",
    "    \n",
    "isprimecounter(30)\n"
   ]
  },
  {
   "cell_type": "code",
   "execution_count": 24,
   "metadata": {},
   "outputs": [
    {
     "name": "stdout",
     "output_type": "stream",
     "text": [
      "[[-1.7]\n",
      " [ 1.9]\n",
      " [-1.5]]\n"
     ]
    }
   ],
   "source": [
    "#4 \n",
    "import numpy as np \n",
    "\n",
    "a = np.matrix([[3,4,-5],[0,5,1],[1,3,6]])\n",
    "b = np.matrix([[10],[8],[-5]])\n",
    "X = np.dot(np.linalg.inv(a), b)\n",
    "print(X)"
   ]
  },
  {
   "cell_type": "code",
   "execution_count": 58,
   "metadata": {},
   "outputs": [
    {
     "ename": "SyntaxError",
     "evalue": "invalid syntax (<ipython-input-58-52c52e8cc151>, line 19)",
     "output_type": "error",
     "traceback": [
      "\u001b[0;36m  File \u001b[0;32m\"<ipython-input-58-52c52e8cc151>\"\u001b[0;36m, line \u001b[0;32m19\u001b[0m\n\u001b[0;31m    e = random.randrange(1,100) for i in range(0,100)\u001b[0m\n\u001b[0m                                ^\u001b[0m\n\u001b[0;31mSyntaxError\u001b[0m\u001b[0;31m:\u001b[0m invalid syntax\n"
     ]
    }
   ],
   "source": [
    "#3\n",
    "import numpy as np\n",
    "def athreed(n, data):\n",
    "    temp= []\n",
    "    i=0\n",
    "    m=n**2\n",
    "    for i in range (0,m):\n",
    "        temp.append([[data,data,data],[data,data,data],[data,data,data]])\n",
    "        i = i + 1\n",
    "    \n",
    "    a=np.array([temp])\n",
    "    x=np.array(a)\n",
    "    print(temp)\n",
    "    \n",
    "    \n",
    "athreed(10,0)\n",
    "\n",
    "import random\n",
    "e = random.randrange(1,100) for i in range(0,100)\n",
    "athreed(5,e)"
   ]
  },
  {
   "cell_type": "code",
   "execution_count": 43,
   "metadata": {},
   "outputs": [
    {
     "data": {
      "image/png": "[encoded data removed]",
      "text/plain": [
       "<Figure size 432x288 with 1 Axes>"
      ]
     },
     "metadata": {
      "needs_background": "light"
     },
     "output_type": "display_data"
    }
   ],
   "source": [
    "#5\n",
    "import matplotlib.pyplot as plt\n",
    "import numpy as np\n",
    "\n",
    "x = np.linspace(-5,5,100)\n",
    "y= 0.1*x**3-x**2+5\n",
    "\n",
    "fig = plt.figure()\n",
    "px = fig.add_subplot(1,1,1)\n",
    "px.spines['left'].set_position('center')\n",
    "px.spines['bottom'].set_position('zero')\n",
    "px.spines['right'].set_color('none')   \n",
    "px.yaxis.set_ticks_position('left')\n",
    "px.xaxis.set_ticks_position('bottom')\n",
    "\n",
    "plt.plot(x,y, 'r')\n",
    "\n",
    "plt.show()"
   ]
  },
  {
   "cell_type": "code",
   "execution_count": null,
   "metadata": {},
   "outputs": [],
   "source": []
  }
 ],
 "metadata": {
  "kernelspec": {
   "display_name": "Python 3",
   "language": "python",
   "name": "python3"
  },
  "language_info": {
   "codemirror_mode": {
    "name": "ipython",
    "version": 3
   },
   "file_extension": ".py",
   "mimetype": "text/x-python",
   "name": "python",
   "nbconvert_exporter": "python",
   "pygments_lexer": "ipython3",
   "version": "3.8.5"
  }
 },
 "nbformat": 4,
 "nbformat_minor": 2
}
